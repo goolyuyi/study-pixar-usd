{
 "cells": [
  {
   "cell_type": "code",
   "execution_count": 1,
   "metadata": {
    "collapsed": true,
    "pycharm": {
     "name": "#%%\n"
    }
   },
   "outputs": [],
   "source": [
    "from pxr import Usd, UsdGeom"
   ]
  },
  {
   "cell_type": "code",
   "execution_count": 2,
   "outputs": [
    {
     "data": {
      "text/plain": "UsdGeom.Sphere(Usd.Prim(</hello/world>))"
     },
     "metadata": {},
     "output_type": "display_data"
    }
   ],
   "source": [
    "stage = Usd.Stage.CreateNew('HelloWorld.usda')\n",
    "\n",
    "xformPrim = UsdGeom.Xform.Define(stage, '/hello')\n",
    "spherePrim = UsdGeom.Sphere.Define(stage, '/hello/world')\n",
    "stage.GetRootLayer().Save()  # comment\n",
    "display(spherePrim)"
   ],
   "metadata": {
    "collapsed": false,
    "pycharm": {
     "name": "#%%\n"
    }
   }
  },
  {
   "cell_type": "code",
   "execution_count": 4,
   "outputs": [
    {
     "ename": "ErrorException",
     "evalue": "\n\tError in 'pxrInternal_v0_22__pxrReserved__::SdfLayer::_CreateNew' at line 494 in file /Users/runner/work/1/s/pxr/usd/sdf/layer.cpp : 'A layer already exists with identifier '/Users/goolyuyi/dev/pythonProjects/study-pixar-usd/HelloWorldRedux.usda''",
     "output_type": "error",
     "traceback": [
      "\u001B[1;31m---------------------------------------------------------------------------\u001B[0m",
      "\u001B[1;31mErrorException\u001B[0m                            Traceback (most recent call last)",
      "Input \u001B[1;32mIn [4]\u001B[0m, in \u001B[0;36m<cell line: 1>\u001B[1;34m()\u001B[0m\n\u001B[1;32m----> 1\u001B[0m stage \u001B[38;5;241m=\u001B[39m \u001B[43mUsd\u001B[49m\u001B[38;5;241;43m.\u001B[39;49m\u001B[43mStage\u001B[49m\u001B[38;5;241;43m.\u001B[39;49m\u001B[43mCreateNew\u001B[49m\u001B[43m(\u001B[49m\u001B[38;5;124;43m'\u001B[39;49m\u001B[38;5;124;43mHelloWorldRedux.usda\u001B[39;49m\u001B[38;5;124;43m'\u001B[39;49m\u001B[43m)\u001B[49m\n\u001B[0;32m      2\u001B[0m get_ipython()\u001B[38;5;241m.\u001B[39mrun_line_magic(\u001B[38;5;124m'\u001B[39m\u001B[38;5;124mpinfo\u001B[39m\u001B[38;5;124m'\u001B[39m, \u001B[38;5;124m'\u001B[39m\u001B[38;5;124mstage.DefinePrim\u001B[39m\u001B[38;5;124m'\u001B[39m)\n\u001B[0;32m      3\u001B[0m xform \u001B[38;5;241m=\u001B[39m stage\u001B[38;5;241m.\u001B[39mDefinePrim(\u001B[38;5;124m'\u001B[39m\u001B[38;5;124m/hello\u001B[39m\u001B[38;5;124m'\u001B[39m, \u001B[38;5;124m'\u001B[39m\u001B[38;5;124mXform\u001B[39m\u001B[38;5;124m'\u001B[39m)\n",
      "\u001B[1;31mErrorException\u001B[0m: \n\tError in 'pxrInternal_v0_22__pxrReserved__::SdfLayer::_CreateNew' at line 494 in file /Users/runner/work/1/s/pxr/usd/sdf/layer.cpp : 'A layer already exists with identifier '/Users/goolyuyi/dev/pythonProjects/study-pixar-usd/HelloWorldRedux.usda''"
     ]
    }
   ],
   "source": [
    "stage = Usd.Stage.CreateNew('HelloWorldRedux.usda')\n",
    "stage.DefinePrim?\n",
    "xform = stage.DefinePrim('/hello', 'Xform')\n",
    "sphere = stage.DefinePrim('/hello/world', 'Sphere')\n",
    "stage.GetRootLayer().Save()\n",
    "display(sphere)"
   ],
   "metadata": {
    "collapsed": false,
    "pycharm": {
     "name": "#%%\n"
    }
   }
  },
  {
   "cell_type": "code",
   "execution_count": 15,
   "outputs": [
    {
     "data": {
      "text/plain": "Usd.Prim(</hello>)"
     },
     "metadata": {},
     "output_type": "display_data"
    },
    {
     "data": {
      "text/plain": "Usd.Prim(</hello/world>)"
     },
     "metadata": {},
     "output_type": "display_data"
    },
    {
     "data": {
      "text/plain": "['proxyPrim', 'purpose', 'visibility', 'xformOpOrder']"
     },
     "metadata": {},
     "output_type": "display_data"
    },
    {
     "data": {
      "text/plain": "['doubleSided',\n 'extent',\n 'orientation',\n 'primvars:displayColor',\n 'primvars:displayOpacity',\n 'proxyPrim',\n 'purpose',\n 'radius',\n 'visibility',\n 'xformOpOrder']"
     },
     "metadata": {},
     "output_type": "display_data"
    },
    {
     "data": {
      "text/plain": "1.0"
     },
     "metadata": {},
     "output_type": "display_data"
    }
   ],
   "source": [
    "stage = Usd.Stage.Open('HelloWorld.usda')\n",
    "xform = stage.GetPrimAtPath('/hello')\n",
    "sphere = stage.GetPrimAtPath('/hello/world')\n",
    "display(xform)\n",
    "display(sphere)\n",
    "display(xform.GetPropertyNames())\n",
    "display(sphere.GetPropertyNames())\n",
    "attr = sphere.GetAttribute(\"radius\")\n",
    "display(attr.Get())"
   ],
   "metadata": {
    "collapsed": false,
    "pycharm": {
     "name": "#%%\n"
    }
   }
  },
  {
   "cell_type": "code",
   "execution_count": null,
   "outputs": [],
   "source": [],
   "metadata": {
    "collapsed": false,
    "pycharm": {
     "name": "#%%\n"
    }
   }
  }
 ],
 "metadata": {
  "kernelspec": {
   "display_name": "Python 3",
   "language": "python",
   "name": "python3"
  },
  "language_info": {
   "codemirror_mode": {
    "name": "ipython",
    "version": 2
   },
   "file_extension": ".py",
   "mimetype": "text/x-python",
   "name": "python",
   "nbconvert_exporter": "python",
   "pygments_lexer": "ipython2",
   "version": "2.7.6"
  }
 },
 "nbformat": 4,
 "nbformat_minor": 0
}