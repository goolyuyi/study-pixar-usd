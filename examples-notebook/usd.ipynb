{
 "cells": [
  {
   "cell_type": "markdown",
   "metadata": {},
   "source": [
    "Import first:"
   ]
  },
  {
   "cell_type": "code",
   "execution_count": 2,
   "metadata": {},
   "outputs": [],
   "source": [
    "from pxr import Usd, UsdGeom"
   ]
  },
  {
   "cell_type": "markdown",
   "source": [
    "create a stage"
   ],
   "metadata": {
    "collapsed": false
   }
  },
  {
   "cell_type": "code",
   "execution_count": 3,
   "outputs": [],
   "source": [
    "stage = Usd.Stage.CreateNew('HelloWorld.usda')"
   ],
   "metadata": {
    "collapsed": false
   }
  },
  {
   "cell_type": "markdown",
   "metadata": {},
   "source": [
    "Use the UsdStage"
   ]
  },
  {
   "cell_type": "code",
   "execution_count": 12,
   "metadata": {},
   "outputs": [
    {
     "data": {
      "text/plain": "Usd.Stage.Open(rootLayer=Sdf.Find('d:/fast/dev/pythonProjects/study-pixar-usd/examples-notebook/HelloWorld.usda'), sessionLayer=Sdf.Find('anon:00000213E90AEB60:HelloWorld-session.usda'), pathResolverContext=Ar.ResolverContext(Ar.DefaultResolverContext(['d:\\\\fast\\\\dev\\\\pythonProjects\\\\study-pixar-usd\\\\examples-notebook\\\\'])))"
     },
     "metadata": {},
     "output_type": "display_data"
    }
   ],
   "source": [
    "xformPrim = UsdGeom.Xform.Define(stage, '/hello')\n",
    "spherePrim = UsdGeom.Sphere.Define(stage, '/hello/world')\n",
    "stage.GetRootLayer().Save()"
   ]
  },
  {
   "cell_type": "markdown",
   "source": [
    "Get Attributes"
   ],
   "metadata": {
    "collapsed": false
   }
  },
  {
   "cell_type": "code",
   "execution_count": 18,
   "outputs": [
    {
     "data": {
      "text/plain": "['doubleSided', 'extent', 'orientation', 'primvars:displayColor', 'primvars:displayOpacity', 'purpose', 'radius', 'visibility', 'xformOpOrder']"
     },
     "metadata": {},
     "output_type": "display_data"
    }
   ],
   "source": [
    "radius_attr = spherePrim.GetRadiusAttr()\n",
    "radius_attr.Get()\n",
    "\n",
    "sphere_attrs = spherePrim.GetPrim().GetAttributes()\n",
    "display([a.GetName() for a in sphere_attrs])"
   ],
   "metadata": {
    "collapsed": false
   }
  },
  {
   "cell_type": "code",
   "execution_count": null,
   "outputs": [],
   "source": [],
   "metadata": {
    "collapsed": false
   }
  }
 ],
 "metadata": {
  "kernelspec": {
   "display_name": "Python 3 (ipykernel)",
   "language": "python",
   "name": "python3"
  },
  "language_info": {
   "codemirror_mode": {
    "name": "ipython",
    "version": 3
   },
   "file_extension": ".py",
   "mimetype": "text/x-python",
   "name": "python",
   "nbconvert_exporter": "python",
   "pygments_lexer": "ipython3",
   "version": "3.9.13"
  }
 },
 "nbformat": 4,
 "nbformat_minor": 1
}
