{
 "cells": [
  {
   "cell_type": "markdown",
   "metadata": {},
   "source": [
    "Import first:"
   ]
  },
  {
   "cell_type": "code",
   "execution_count": 1,
   "metadata": {},
   "outputs": [],
   "source": [
    "from pxr import Usd, UsdGeom"
   ]
  },
  {
   "cell_type": "markdown",
   "metadata": {},
   "source": [
    "Use the UsdStage"
   ]
  },
  {
   "cell_type": "code",
   "execution_count": 2,
   "metadata": {},
   "outputs": [
    {
     "data": {
      "text/plain": [
       "Usd.Stage.Open(rootLayer=Sdf.Find('d:/fast/dev/pythonProjects/study-pixar-usd/examples-notebook/HelloWorld.usda'), sessionLayer=Sdf.Find('anon:00000191B9C1EB40:HelloWorld-session.usda'), pathResolverContext=Ar.ResolverContext(Ar.DefaultResolverContext(['d:\\\\fast\\\\dev\\\\pythonProjects\\\\study-pixar-usd\\\\examples-notebook\\\\'])))"
      ]
     },
     "metadata": {},
     "output_type": "display_data"
    }
   ],
   "source": [
    "stage = Usd.Stage.CreateNew('HelloWorld.usda')\n",
    "\n",
    "xformPrim = UsdGeom.Xform.Define(stage, '/hello')\n",
    "spherePrim = UsdGeom.Sphere.Define(stage, '/hello/world')\n",
    "stage.GetRootLayer().Save()  # comment\n"
   ]
  },
  {
   "cell_type": "code",
   "execution_count": 2,
   "metadata": {},
   "outputs": [
    {
     "data": {
      "text/plain": [
       "Usd.Prim(</hello/world>)"
      ]
     },
     "metadata": {},
     "output_type": "display_data"
    }
   ],
   "source": [
    "stage = Usd.Stage.CreateNew('HelloWorldRedux.usda')\n",
    "stage.DefinePrim?\n",
    "xform = stage.DefinePrim('/hello', 'Xform')\n",
    "sphere = stage.DefinePrim('/hello/world', 'Sphere')\n",
    "stage.GetRootLayer().Save()\n",
    "display(sphere)"
   ]
  },
  {
   "cell_type": "code",
   "execution_count": 5,
   "metadata": {},
   "outputs": [
    {
     "data": {
      "text/plain": [
       "Usd.Prim(</hello>)"
      ]
     },
     "metadata": {},
     "output_type": "display_data"
    },
    {
     "data": {
      "text/plain": [
       "Usd.Prim(</hello/world>)"
      ]
     },
     "metadata": {},
     "output_type": "display_data"
    },
    {
     "data": {
      "text/plain": [
       "['proxyPrim', 'purpose', 'visibility', 'xformOpOrder']"
      ]
     },
     "metadata": {},
     "output_type": "display_data"
    },
    {
     "data": {
      "text/plain": [
       "['doubleSided',\n",
       " 'extent',\n",
       " 'orientation',\n",
       " 'primvars:displayColor',\n",
       " 'primvars:displayOpacity',\n",
       " 'proxyPrim',\n",
       " 'purpose',\n",
       " 'radius',\n",
       " 'visibility',\n",
       " 'xformOpOrder']"
      ]
     },
     "metadata": {},
     "output_type": "display_data"
    },
    {
     "data": {
      "text/plain": [
       "1.0"
      ]
     },
     "metadata": {},
     "output_type": "display_data"
    },
    {
     "data": {
      "text/plain": [
       "Vt.Vec3fArray(2, (Gf.Vec3f(-1.0, -1.0, -1.0), Gf.Vec3f(1.0, 1.0, 1.0)))"
      ]
     },
     "metadata": {},
     "output_type": "display_data"
    }
   ],
   "source": [
    "stage = Usd.Stage.Open('HelloWorld.usda')\n",
    "xform = stage.GetPrimAtPath('/hello')\n",
    "sphere = stage.GetPrimAtPath('/hello/world')\n",
    "display(xform)\n",
    "display(sphere)\n",
    "display(xform.GetPropertyNames())\n",
    "display(sphere.GetPropertyNames())\n",
    "attr_radius = sphere.GetAttribute(\"radius\")\n",
    "display(attr_radius.Get())\n",
    "attr_extent = sphere.GetAttribute(\"extent\")\n",
    "display(attr_extent.Get())"
   ]
  },
  {
   "cell_type": "code",
   "execution_count": 23,
   "metadata": {},
   "outputs": [
    {
     "name": "stdout",
     "output_type": "stream",
     "text": [
      "#usda 1.0\n",
      "\n",
      "def Xform \"hello\"\n",
      "{\n",
      "    def Sphere \"world\"\n",
      "    {\n",
      "        float3[] extent = [(-256, -256, -256), (256, 256, 256)]\n",
      "        color3f[] primvars:displayColor = [(0, 0, 1)]\n",
      "        double radius = 2\n",
      "    }\n",
      "}\n",
      "\n",
      "\n"
     ]
    }
   ],
   "source": [
    "attr_radius.Set(2.0)\n",
    "attr_extent.Set(attr_extent.Get()*2.0)\n",
    "sphereSchema = UsdGeom.Sphere(sphere)\n",
    "color = sphereSchema.GetDisplayColorAttr()\n",
    "color.Set([(0,0,1)])\n",
    "print(stage.GetRootLayer().ExportToString())"
   ]
  },
  {
   "cell_type": "code",
   "execution_count": null,
   "metadata": {},
   "outputs": [],
   "source": []
  }
 ],
 "metadata": {
  "kernelspec": {
   "display_name": "Python 3 (ipykernel)",
   "language": "python",
   "name": "python3"
  },
  "language_info": {
   "codemirror_mode": {
    "name": "ipython",
    "version": 3
   },
   "file_extension": ".py",
   "mimetype": "text/x-python",
   "name": "python",
   "nbconvert_exporter": "python",
   "pygments_lexer": "ipython3",
   "version": "3.9.13"
  }
 },
 "nbformat": 4,
 "nbformat_minor": 1
}
